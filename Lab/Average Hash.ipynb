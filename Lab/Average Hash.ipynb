{
 "cells": [
  {
   "cell_type": "markdown",
   "metadata": {},
   "source": [
    "# 모듈 로드"
   ]
  },
  {
   "cell_type": "code",
   "execution_count": 1,
   "metadata": {
    "collapsed": true
   },
   "outputs": [],
   "source": [
    "from PIL import Image\n",
    "import numpy as np"
   ]
  },
  {
   "cell_type": "markdown",
   "metadata": {},
   "source": [
    "# 이미지 데이터를 Average Hash로 변환하기 --- (※1)"
   ]
  },
  {
   "cell_type": "code",
   "execution_count": 4,
   "metadata": {
    "collapsed": true
   },
   "outputs": [],
   "source": [
    "def average_hash(fname, size = 16):\n",
    "    img = Image.open(fname) # 이미지 데이터 열기---(※2)\n",
    "    img = img.convert('L') # 그레이스케일로 변환하기 --- (※3)\n",
    "    img = img.resize((size, size), Image.ANTIALIAS) # 리사이즈하기 --- (※4)\n",
    "    pixel_data = img.getdata() # 픽셀 데이터 가져오기 --- (※5)\n",
    "    pixels = np.array(pixel_data) # Numpy 배열로 변환하기 --- (※6)\n",
    "    pixels = pixels.reshape((size, size)) # 2차원 배열로 변환하기 --- (※7)\n",
    "    avg = pixels.mean() # 평균 구하기 --- (※8)\n",
    "    diff = 1 * (pixels > avg) # 평균보다 크면 1, 작으면 0으로 변환하기 --- (※9)\n",
    "    return diff"
   ]
  },
  {
   "cell_type": "markdown",
   "metadata": {},
   "source": [
    "# Average Hash 출력하기"
   ]
  },
  {
   "cell_type": "code",
   "execution_count": 5,
   "metadata": {
    "collapsed": false
   },
   "outputs": [],
   "source": [
    "ahash = average_hash('tower.jpg')"
   ]
  },
  {
   "cell_type": "code",
   "execution_count": 6,
   "metadata": {
    "collapsed": false
   },
   "outputs": [
    {
     "name": "stdout",
     "output_type": "stream",
     "text": [
      "[[0 0 0 0 0 0 0 0 0 0 0 0 0 0 0 0]\n",
      " [0 0 0 0 0 0 0 1 0 0 0 0 0 0 0 0]\n",
      " [0 0 0 0 0 0 0 1 1 0 0 0 0 0 0 0]\n",
      " [0 0 0 0 0 0 0 1 1 0 0 0 0 0 0 0]\n",
      " [0 0 0 0 0 0 1 1 1 1 0 0 0 0 0 0]\n",
      " [0 0 0 0 0 0 1 1 1 1 0 0 0 0 0 0]\n",
      " [0 0 0 0 0 0 1 1 1 1 0 0 0 0 0 0]\n",
      " [1 0 0 0 0 1 1 1 1 1 1 0 0 0 0 0]\n",
      " [0 1 1 1 1 1 1 1 1 1 1 1 0 0 0 0]\n",
      " [0 1 0 1 1 1 1 1 1 1 1 1 0 0 0 0]\n",
      " [0 1 1 1 1 1 1 1 1 1 1 1 0 0 1 0]\n",
      " [1 1 0 0 1 1 1 1 1 1 1 1 1 0 1 0]\n",
      " [1 0 0 1 1 1 1 1 1 1 1 1 1 1 1 0]\n",
      " [0 0 1 1 1 1 1 1 1 1 1 1 1 1 1 0]\n",
      " [0 0 1 1 1 1 1 1 1 1 1 1 1 1 1 0]\n",
      " [0 0 0 1 1 1 1 1 1 1 1 1 1 1 1 1]]\n"
     ]
    }
   ],
   "source": [
    "print(ahash)"
   ]
  },
  {
   "cell_type": "markdown",
   "metadata": {},
   "source": [
    "# 이진 해시로 변환하기 --- (※10)"
   ]
  },
  {
   "cell_type": "code",
   "execution_count": 33,
   "metadata": {
    "collapsed": false
   },
   "outputs": [],
   "source": [
    "def np2hash(ahash):\n",
    "    bhash = []\n",
    "    for nl in ahash.tolist():\n",
    "        sl = [str(i) for i in nl]\n",
    "        s2 = \"\".join(sl)   # 모든 요소들을 하나로 연결하여 출력 (구분자 없애기)\n",
    "        i = int(s2, 2) # 이진수를 정수로 변환하기\n",
    "        #print(\"정수:\",i)\n",
    "        #print(\"%02x\" % i)\n",
    "        #print(\"%04x\" % i)\n",
    "        bhash.append(\"%04x\" % i)\n",
    "    return \"\".join(bhash)"
   ]
  },
  {
   "cell_type": "code",
   "execution_count": 34,
   "metadata": {
    "collapsed": false
   },
   "outputs": [
    {
     "name": "stdout",
     "output_type": "stream",
     "text": [
      "000001000180018003c003c003c087e07ff05ff07ff2cffa9ffe3ffe3ffe1fff\n"
     ]
    }
   ],
   "source": [
    "print(np2hash(ahash))"
   ]
  },
  {
   "cell_type": "markdown",
   "metadata": {},
   "source": [
    "# 10진수를 16진수 헥사로 변환 예제"
   ]
  },
  {
   "cell_type": "code",
   "execution_count": 26,
   "metadata": {
    "collapsed": false
   },
   "outputs": [
    {
     "name": "stdout",
     "output_type": "stream",
     "text": [
      "0xff\n",
      "FF\n",
      "ff\n",
      "0xFF\n",
      "A\n",
      "0A\n"
     ]
    }
   ],
   "source": [
    "n = 255\n",
    "\n",
    "h = hex(n)           # 숫자를 헥사 문자열로 변환하여 반환\n",
    "print(h)              # 출력 결과: 0xff\n",
    "\n",
    "print(\"%X\" % (n))     # 출력 결과: FF\n",
    "print(\"%x\" % (n))     # 출력 결과: ff\n",
    "print(\"0x%X\" % (n))   # 출력 결과: 0xFF\n",
    "\n",
    "\n",
    "print(\"%X\" % (10))    # 출력 결과: A\n",
    "print(\"%02X\" % (10))  # 출력 결과: 0A"
   ]
  },
  {
   "cell_type": "code",
   "execution_count": null,
   "metadata": {
    "collapsed": true
   },
   "outputs": [],
   "source": []
  }
 ],
 "metadata": {
  "kernelspec": {
   "display_name": "Python [conda root]",
   "language": "python",
   "name": "conda-root-py"
  },
  "language_info": {
   "codemirror_mode": {
    "name": "ipython",
    "version": 3
   },
   "file_extension": ".py",
   "mimetype": "text/x-python",
   "name": "python",
   "nbconvert_exporter": "python",
   "pygments_lexer": "ipython3",
   "version": "3.5.2"
  }
 },
 "nbformat": 4,
 "nbformat_minor": 1
}
